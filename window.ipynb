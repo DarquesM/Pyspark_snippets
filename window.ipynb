{
 "cells": [
  {
   "cell_type": "code",
   "execution_count": 1,
   "metadata": {},
   "outputs": [],
   "source": [
    "from pyspark.sql import functions as F\n",
    "from pyspark.sql import Window"
   ]
  },
  {
   "cell_type": "code",
   "execution_count": 2,
   "metadata": {},
   "outputs": [
    {
     "name": "stdout",
     "output_type": "stream",
     "text": [
      "WARNING: calling FoundryManager with a sparkSession is deprecated, use a spark context instead\n"
     ]
    }
   ],
   "source": [
    "fm = get_foundry_manager()\n",
    "sc = fm._sql_context"
   ]
  },
  {
   "cell_type": "code",
   "execution_count": 3,
   "metadata": {},
   "outputs": [],
   "source": [
    "## Sample DataFrame"
   ]
  },
  {
   "cell_type": "code",
   "execution_count": 4,
   "metadata": {},
   "outputs": [],
   "source": [
    "a = sc.createDataFrame([(1, 1, 16), \n",
    "                        (2, 1, 100),\n",
    "                        (3, 2, 150),\n",
    "                        (4, 2, 150),\n",
    "                        (5, 2, 6),\n",
    "                        (6, 3, 99),\n",
    "                        (7, 3, 101),\n",
    "                        (8, 4, 103),\n",
    "                        (9, 4, 12),\n",
    "                        (10, 4, 18),\n",
    "                        (11, 4, 47),\n",
    "                        (12, 4, 44)]\n",
    "                       , ['ID', 'Phase', 'FF_1'])"
   ]
  },
  {
   "cell_type": "markdown",
   "metadata": {},
   "source": [
    "There are two ways of using windows : \n",
    "\n",
    "* Define the window and the range at the same time, or\n",
    "* Define the window and use pyspark.sql functions "
   ]
  },
  {
   "cell_type": "code",
   "execution_count": 30,
   "metadata": {},
   "outputs": [],
   "source": [
    "window_w_range = Window.partitionBy('Phase')\\\n",
    "                       .orderBy('ID')\\\n",
    "                       .rowsBetween(0, 1)\n",
    "window_wo_range = Window.orderBy('ID')"
   ]
  },
  {
   "cell_type": "code",
   "execution_count": 31,
   "metadata": {},
   "outputs": [
    {
     "name": "stdout",
     "output_type": "stream",
     "text": [
      "+---+-----+----+-----+\n",
      "| ID|Phase|FF_1|  Avg|\n",
      "+---+-----+----+-----+\n",
      "|  1|    1|  16| 58.0|\n",
      "|  2|    1| 100|100.0|\n",
      "|  6|    3|  99|100.0|\n",
      "|  7|    3| 101|101.0|\n",
      "|  3|    2| 150|150.0|\n",
      "|  4|    2| 150| 78.0|\n",
      "|  5|    2|   6|  6.0|\n",
      "|  8|    4| 103| 57.5|\n",
      "|  9|    4|  12| 15.0|\n",
      "| 10|    4|  18| 32.5|\n",
      "| 11|    4|  47| 45.5|\n",
      "| 12|    4|  44| 44.0|\n",
      "+---+-----+----+-----+\n",
      "\n"
     ]
    }
   ],
   "source": [
    "a.withColumn(\"Avg\", F.mean(a['FF_1']).over(window_w_range)).show()"
   ]
  },
  {
   "cell_type": "code",
   "execution_count": 32,
   "metadata": {},
   "outputs": [
    {
     "name": "stdout",
     "output_type": "stream",
     "text": [
      "+---+-----+----+----+\n",
      "| ID|Phase|FF_1| sum|\n",
      "+---+-----+----+----+\n",
      "|  1|    1|  16| 116|\n",
      "|  2|    1| 100| 250|\n",
      "|  3|    2| 150| 300|\n",
      "|  4|    2| 150| 156|\n",
      "|  5|    2|   6| 105|\n",
      "|  6|    3|  99| 200|\n",
      "|  7|    3| 101| 204|\n",
      "|  8|    4| 103| 115|\n",
      "|  9|    4|  12|  30|\n",
      "| 10|    4|  18|  65|\n",
      "| 11|    4|  47|  91|\n",
      "| 12|    4|  44|null|\n",
      "+---+-----+----+----+\n",
      "\n"
     ]
    }
   ],
   "source": [
    "def func():\n",
    "    result = F.col('FF_1') + F.lead(F.col('FF_1'), 1).over(window_wo_range)\n",
    "    return result\n",
    "a.withColumn(\"sum\", func()).show()"
   ]
  },
  {
   "cell_type": "code",
   "execution_count": null,
   "metadata": {},
   "outputs": [],
   "source": []
  }
 ],
 "metadata": {
  "kernelspec": {
   "display_name": "Python 2",
   "language": "python",
   "name": "python2"
  },
  "language_info": {
   "codemirror_mode": {
    "name": "ipython",
    "version": 2
   },
   "file_extension": ".py",
   "mimetype": "text/x-python",
   "name": "python",
   "nbconvert_exporter": "python",
   "pygments_lexer": "ipython2",
   "version": "2.7.12"
  }
 },
 "nbformat": 4,
 "nbformat_minor": 0
}
